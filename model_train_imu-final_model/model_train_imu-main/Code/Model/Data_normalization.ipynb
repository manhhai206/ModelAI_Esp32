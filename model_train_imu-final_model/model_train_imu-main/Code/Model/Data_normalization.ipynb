{
 "cells": [
  {
   "cell_type": "code",
   "execution_count": 14,
   "metadata": {},
   "outputs": [],
   "source": [
    "import pandas as pd \n",
    "import numpy as np\n",
    "import glob\n",
    "\n",
    "def normalize_column(column):\n",
    "    return 2 * (column - column.min()) / (column.max() - column.min()) - 1"
   ]
  },
  {
   "cell_type": "code",
   "execution_count": 15,
   "metadata": {},
   "outputs": [
    {
     "name": "stdout",
     "output_type": "stream",
     "text": [
      "             aX        aY        aZ        gX        gY        gZ  label\n",
      "0      0.377778  0.126761 -0.142857  0.218593  0.044768 -0.032738      0\n",
      "1      0.377778  0.183099 -0.107143  0.244661  0.109839 -0.032738      0\n",
      "2      0.288889  0.154930 -0.107143  0.224979  0.088496 -0.060020      0\n",
      "3      0.288889  0.154930 -0.142857  0.232831  0.074961 -0.062004      0\n",
      "4      0.377778  0.183099 -0.142857  0.224142 -0.015096 -0.102183      0\n",
      "...         ...       ...       ...       ...       ...       ...    ...\n",
      "15995 -0.066667  0.014085 -0.107143  0.140599  0.018220 -0.061508      1\n",
      "15996 -0.066667  0.014085 -0.107143  0.128245  0.017699 -0.068452      1\n",
      "15997 -0.066667 -0.014085 -0.107143  0.145205  0.002603 -0.067956      1\n",
      "15998 -0.066667 -0.014085 -0.142857  0.166771  0.014055 -0.063988      1\n",
      "15999 -0.066667  0.014085 -0.107143  0.177345 -0.021864 -0.049107      1\n",
      "\n",
      "[16000 rows x 7 columns]\n"
     ]
    }
   ],
   "source": [
    "# Dictionary to convert filenames to labels\n",
    "GESTURES = {'Breathing': 0, 'SBreathing': 1}\n",
    "\n",
    "# Function to read files and append labels based on filename\n",
    "def load_data_from_label_dict(label_dict):\n",
    "    data_list = []\n",
    "    for label_name, label_value in label_dict.items():\n",
    "        file_path_pattern = f'./data_train/{label_name}.csv'\n",
    "        for file_path in glob.glob(file_path_pattern):\n",
    "            df = pd.read_csv(file_path)\n",
    "            df['label'] = label_value\n",
    "            data_list.append(df)\n",
    "    return pd.concat(data_list, ignore_index=True)\n",
    "\n",
    "# Load data\n",
    "df = load_data_from_label_dict(GESTURES)\n",
    "\n",
    "# Normalize the dataset columns\n",
    "df[[\"aX\", \"aY\", \"aZ\", \"gX\", \"gY\", \"gZ\"]] = df[[\"aX\", \"aY\", \"aZ\", \"gX\", \"gY\", \"gZ\"]].apply(normalize_column)\n",
    "\n",
    "dataSet = df[[\"aX\", \"aY\", \"aZ\", \"gX\", \"gY\", \"gZ\", \"label\"]]\n",
    "print(dataSet)"
   ]
  }
 ],
 "metadata": {
  "kernelspec": {
   "display_name": "Python 3",
   "language": "python",
   "name": "python3"
  },
  "language_info": {
   "codemirror_mode": {
    "name": "ipython",
    "version": 3
   },
   "file_extension": ".py",
   "mimetype": "text/x-python",
   "name": "python",
   "nbconvert_exporter": "python",
   "pygments_lexer": "ipython3",
   "version": "3.10.11"
  }
 },
 "nbformat": 4,
 "nbformat_minor": 2
}
